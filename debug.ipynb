{
 "cells": [
  {
   "cell_type": "code",
   "execution_count": 1,
   "metadata": {},
   "outputs": [
    {
     "name": "stderr",
     "output_type": "stream",
     "text": [
      "/shared/shashmi/conda_envs/inverter/lib/python3.10/site-packages/tqdm/auto.py:21: TqdmWarning: IProgress not found. Please update jupyter and ipywidgets. See https://ipywidgets.readthedocs.io/en/stable/user_install.html\n",
      "  from .autonotebook import tqdm as notebook_tqdm\n"
     ]
    },
    {
     "ename": "TypeError",
     "evalue": "download_from_original_stable_diffusion_ckpt() got an unexpected keyword argument 'checkpoint_path'",
     "output_type": "error",
     "traceback": [
      "\u001b[0;31m---------------------------------------------------------------------------\u001b[0m",
      "\u001b[0;31mTypeError\u001b[0m                                 Traceback (most recent call last)",
      "Cell \u001b[0;32mIn[1], line 35\u001b[0m\n\u001b[1;32m     32\u001b[0m     pipe\u001b[38;5;241m.\u001b[39msave_pretrained(dump_path)\n\u001b[1;32m     34\u001b[0m \u001b[38;5;28;01mif\u001b[39;00m \u001b[38;5;18m__name__\u001b[39m \u001b[38;5;241m==\u001b[39m \u001b[38;5;124m\"\u001b[39m\u001b[38;5;124m__main__\u001b[39m\u001b[38;5;124m\"\u001b[39m:\n\u001b[0;32m---> 35\u001b[0m     \u001b[43mconvert_sd3_to_diffusers\u001b[49m\u001b[43m(\u001b[49m\u001b[43m)\u001b[49m\n",
      "Cell \u001b[0;32mIn[1], line 20\u001b[0m, in \u001b[0;36mconvert_sd3_to_diffusers\u001b[0;34m()\u001b[0m\n\u001b[1;32m     17\u001b[0m dump_path \u001b[38;5;241m=\u001b[39m \u001b[38;5;124m\"\u001b[39m\u001b[38;5;124mconverted_diffusers\u001b[39m\u001b[38;5;124m\"\u001b[39m\n\u001b[1;32m     19\u001b[0m \u001b[38;5;66;03m# Convert model\u001b[39;00m\n\u001b[0;32m---> 20\u001b[0m pipe \u001b[38;5;241m=\u001b[39m \u001b[43mdownload_from_original_stable_diffusion_ckpt\u001b[49m\u001b[43m(\u001b[49m\n\u001b[1;32m     21\u001b[0m \u001b[43m    \u001b[49m\u001b[43mcheckpoint_path\u001b[49m\u001b[38;5;241;43m=\u001b[39;49m\u001b[43mcheckpoint_path\u001b[49m\u001b[43m,\u001b[49m\n\u001b[1;32m     22\u001b[0m \u001b[43m    \u001b[49m\u001b[43moriginal_config_file\u001b[49m\u001b[38;5;241;43m=\u001b[39;49m\u001b[38;5;28;43;01mNone\u001b[39;49;00m\u001b[43m,\u001b[49m\n\u001b[1;32m     23\u001b[0m \u001b[43m    \u001b[49m\u001b[43mtext_encoder_paths\u001b[49m\u001b[38;5;241;43m=\u001b[39;49m\u001b[43mtext_encoder_paths\u001b[49m\u001b[43m,\u001b[49m\n\u001b[1;32m     24\u001b[0m \u001b[43m    \u001b[49m\u001b[43mscheduler_type\u001b[49m\u001b[38;5;241;43m=\u001b[39;49m\u001b[38;5;124;43m\"\u001b[39;49m\u001b[38;5;124;43meuler-ancestral\u001b[39;49m\u001b[38;5;124;43m\"\u001b[39;49m\u001b[43m,\u001b[49m\n\u001b[1;32m     25\u001b[0m \u001b[43m    \u001b[49m\u001b[43mfrom_safetensors\u001b[49m\u001b[38;5;241;43m=\u001b[39;49m\u001b[38;5;28;43;01mTrue\u001b[39;49;00m\u001b[43m,\u001b[49m\n\u001b[1;32m     26\u001b[0m \u001b[43m    \u001b[49m\u001b[43mdump_path\u001b[49m\u001b[38;5;241;43m=\u001b[39;49m\u001b[43mdump_path\u001b[49m\u001b[43m,\u001b[49m\n\u001b[1;32m     27\u001b[0m \u001b[43m    \u001b[49m\u001b[43mdevice\u001b[49m\u001b[38;5;241;43m=\u001b[39;49m\u001b[38;5;124;43m\"\u001b[39;49m\u001b[38;5;124;43mcuda\u001b[39;49m\u001b[38;5;124;43m\"\u001b[39;49m\u001b[43m,\u001b[49m\n\u001b[1;32m     28\u001b[0m \u001b[43m    \u001b[49m\u001b[43mdtype\u001b[49m\u001b[38;5;241;43m=\u001b[39;49m\u001b[43mtorch\u001b[49m\u001b[38;5;241;43m.\u001b[39;49m\u001b[43mfloat16\u001b[49m\n\u001b[1;32m     29\u001b[0m \u001b[43m\u001b[49m\u001b[43m)\u001b[49m\n\u001b[1;32m     31\u001b[0m \u001b[38;5;66;03m# Save the pipeline\u001b[39;00m\n\u001b[1;32m     32\u001b[0m pipe\u001b[38;5;241m.\u001b[39msave_pretrained(dump_path)\n",
      "\u001b[0;31mTypeError\u001b[0m: download_from_original_stable_diffusion_ckpt() got an unexpected keyword argument 'checkpoint_path'"
     ]
    }
   ],
   "source": [
    "from diffusers.pipelines.stable_diffusion.convert_from_ckpt import download_from_original_stable_diffusion_ckpt\n",
    "import torch\n",
    "\n",
    "# Create conversion script\n",
    "def convert_sd3_to_diffusers():\n",
    "    # Path to your checkpoint\n",
    "    checkpoint_path = \"/shared/shashmi/stable-diffusion-3-medium/sd3_medium.safetensors\"\n",
    "    \n",
    "    # Path to text encoders\n",
    "    text_encoder_paths = {\n",
    "        \"clip_l\": \"/shared/shashmi/stable-diffusion-3-medium/text_encoders/clip_l.safetensors\",\n",
    "        \"clip_g\": \"/shared/shashmi/stable-diffusion-3-medium/text_encoders/clip_g.safetensors\",\n",
    "        \"t5\": \"/shared/shashmi/stable-diffusion-3-medium/text_encoders/t5xxl_fp16.safetensors\"\n",
    "    }\n",
    "    \n",
    "    # Output path\n",
    "    dump_path = \"converted_diffusers\"\n",
    "\n",
    "    # Convert model\n",
    "    pipe = download_from_original_stable_diffusion_ckpt(\n",
    "        checkpoint_path=checkpoint_path,\n",
    "        original_config_file=None,\n",
    "        text_encoder_paths=text_encoder_paths,\n",
    "        scheduler_type=\"euler-ancestral\",\n",
    "        from_safetensors=True,\n",
    "        dump_path=dump_path,\n",
    "        device=\"cuda\",\n",
    "        dtype=torch.float16\n",
    "    )\n",
    "    \n",
    "    # Save the pipeline\n",
    "    pipe.save_pretrained(dump_path)\n",
    "\n",
    "if __name__ == \"__main__\":\n",
    "    convert_sd3_to_diffusers()"
   ]
  },
  {
   "cell_type": "code",
   "execution_count": null,
   "metadata": {},
   "outputs": [],
   "source": []
  }
 ],
 "metadata": {
  "kernelspec": {
   "display_name": "inverter",
   "language": "python",
   "name": "python3"
  },
  "language_info": {
   "codemirror_mode": {
    "name": "ipython",
    "version": 3
   },
   "file_extension": ".py",
   "mimetype": "text/x-python",
   "name": "python",
   "nbconvert_exporter": "python",
   "pygments_lexer": "ipython3",
   "version": "3.10.15"
  }
 },
 "nbformat": 4,
 "nbformat_minor": 2
}
